{
 "cells": [
  {
   "cell_type": "code",
   "execution_count": 94,
   "metadata": {},
   "outputs": [],
   "source": [
    "# Import thư viện\n",
    "import pandas as pd\n",
    "from sklearn.model_selection import train_test_split\n",
    "from sklearn.ensemble import RandomForestClassifier\n",
    "from sklearn.metrics import accuracy_score\n",
    "from xgboost import XGBClassifier\n",
    "from sklearn.metrics import classification_report, mean_squared_error\n",
    "from sklearn.svm import SVC, SVR\n",
    "import numpy as np\n",
    "from sklearn.preprocessing import MinMaxScaler\n",
    "import pickle"
   ]
  },
  {
   "cell_type": "markdown",
   "metadata": {},
   "source": [
    "# Data Preparation"
   ]
  },
  {
   "cell_type": "code",
   "execution_count": null,
   "metadata": {},
   "outputs": [],
   "source": [
    "# Load Input\n",
    "df = pd.read_csv(r'D:\\Pomona\\dataset\\cleaned_dataset.csv') \n",
    "\n",
    "# Create Label Columns\n",
    "df['type_code'] = df[\"file_name\"].str[22:24]\n",
    "df['status_code'] = df[\"file_name\"].str[26:28]\n",
    "data = df\n",
    "\n",
    "# Choose Meat Type data to train: \"01\" - Beef; \"02\" - Pork.\n",
    "data = data[data[\"type_code\"] == \"01\"]\n",
    "\n",
    "# Data\n",
    "X = data.loc[:, 'sample_signal_1':'sample_signal_228']\n",
    "\n",
    "# remap label: 1,2,3,5 -> 0,1,2,3\n",
    "y = data['status_code'].astype('category').cat.codes\n",
    "\n",
    "# Data Spliting\n",
    "X_train, X_test, y_train, y_test = train_test_split(X, y, test_size=0.5, random_state=42)"
   ]
  },
  {
   "cell_type": "code",
   "execution_count": 73,
   "metadata": {},
   "outputs": [
    {
     "name": "stdout",
     "output_type": "stream",
     "text": [
      "SVM: \n",
      "              precision    recall  f1-score   support\n",
      "\n",
      "           0       0.88      0.91      0.90       437\n",
      "           1       0.92      0.90      0.91       547\n",
      "           2       0.91      0.92      0.92       545\n",
      "           3       0.90      0.85      0.88       238\n",
      "\n",
      "    accuracy                           0.90      1767\n",
      "   macro avg       0.90      0.90      0.90      1767\n",
      "weighted avg       0.90      0.90      0.90      1767\n",
      "\n"
     ]
    }
   ],
   "source": [
    "svm_freshness = SVC(kernel='linear')\n",
    "svm_freshness.fit(X_train, y_train)\n",
    "y_fresh_pred = svm_freshness.predict(X_test)\n",
    "print('SVM: ')\n",
    "print(classification_report(y_test, y_fresh_pred))"
   ]
  },
  {
   "cell_type": "code",
   "execution_count": 74,
   "metadata": {},
   "outputs": [
    {
     "name": "stdout",
     "output_type": "stream",
     "text": [
      "Random Forest: \n",
      "              precision    recall  f1-score   support\n",
      "\n",
      "           0       0.84      0.70      0.76       437\n",
      "           1       0.83      0.96      0.89       547\n",
      "           2       0.89      0.89      0.89       545\n",
      "           3       0.87      0.84      0.85       238\n",
      "\n",
      "    accuracy                           0.86      1767\n",
      "   macro avg       0.86      0.85      0.85      1767\n",
      "weighted avg       0.86      0.86      0.85      1767\n",
      "\n"
     ]
    }
   ],
   "source": [
    "rf_model = RandomForestClassifier(random_state=42)\n",
    "rf_model.fit(X_train, y_train)\n",
    "y_pred_rf = rf_model.predict(X_test)\n",
    "print('Random Forest: ')\n",
    "print(classification_report(y_test, y_pred_rf))"
   ]
  },
  {
   "cell_type": "code",
   "execution_count": 75,
   "metadata": {},
   "outputs": [
    {
     "name": "stderr",
     "output_type": "stream",
     "text": [
      "c:\\Users\\ASUS\\AppData\\Local\\Programs\\Python\\Python312\\Lib\\site-packages\\xgboost\\core.py:158: UserWarning: [22:28:25] WARNING: C:\\buildkite-agent\\builds\\buildkite-windows-cpu-autoscaling-group-i-0ed59c031377d09b8-1\\xgboost\\xgboost-ci-windows\\src\\learner.cc:740: \n",
      "Parameters: { \"use_label_encoder\" } are not used.\n",
      "\n",
      "  warnings.warn(smsg, UserWarning)\n"
     ]
    },
    {
     "name": "stdout",
     "output_type": "stream",
     "text": [
      "XGB: \n",
      "              precision    recall  f1-score   support\n",
      "\n",
      "           0       0.89      0.79      0.84       437\n",
      "           1       0.88      0.97      0.93       547\n",
      "           2       0.92      0.92      0.92       545\n",
      "           3       0.92      0.89      0.91       238\n",
      "\n",
      "    accuracy                           0.90      1767\n",
      "   macro avg       0.90      0.89      0.90      1767\n",
      "weighted avg       0.90      0.90      0.90      1767\n",
      "\n"
     ]
    }
   ],
   "source": [
    "xgb_status = XGBClassifier(use_label_encoder=False, eval_metric='mlogloss', random_state=42)\n",
    "xgb_status.fit(X_train, y_train)\n",
    "y_pred_status = xgb_status.predict(X_test)\n",
    "print('XGB: ')\n",
    "print(classification_report(y_test, y_pred_status))"
   ]
  },
  {
   "cell_type": "markdown",
   "metadata": {},
   "source": [
    "# Save Model"
   ]
  },
  {
   "cell_type": "code",
   "execution_count": 90,
   "metadata": {},
   "outputs": [],
   "source": [
    "with open('svm_model.pkl', 'wb') as f:\n",
    "    pickle.dump(svm_freshness, f)\n",
    "with open('rf_model.pkl', 'wb') as f:\n",
    "    pickle.dump(rf_model, f)\n",
    "with open('xgb_model.pkl', 'wb') as f:\n",
    "    pickle.dump(xgb_status, f)"
   ]
  },
  {
   "cell_type": "markdown",
   "metadata": {},
   "source": [
    "# Load Model"
   ]
  },
  {
   "cell_type": "code",
   "execution_count": 91,
   "metadata": {},
   "outputs": [],
   "source": [
    "with open('svm_model.pkl', 'rb') as f:\n",
    "    svm_model = pickle.load(f)\n",
    "with open('rf_model.pkl', 'rb') as f:\n",
    "    rf_model = pickle.load(f)\n",
    "with open('xgb_model.pkl', 'rb') as f:\n",
    "    xgb_model = pickle.load(f)"
   ]
  },
  {
   "cell_type": "markdown",
   "metadata": {},
   "source": [
    "# Predict "
   ]
  },
  {
   "cell_type": "code",
   "execution_count": 92,
   "metadata": {},
   "outputs": [],
   "source": [
    "predict1 = svm_model.predict(X_test)\n",
    "predict2 = rf_model.predict(X_test)\n",
    "predict3 = xgb_model.predict(X_test)"
   ]
  },
  {
   "cell_type": "code",
   "execution_count": 93,
   "metadata": {},
   "outputs": [
    {
     "name": "stdout",
     "output_type": "stream",
     "text": [
      "[3 1 0 ... 1 3 0]\n",
      "[3 1 0 ... 1 3 0]\n",
      "[3 1 0 ... 1 0 0]\n"
     ]
    }
   ],
   "source": [
    "print(predict1)\n",
    "print(predict2)\n",
    "print(predict3)"
   ]
  }
 ],
 "metadata": {
  "kernelspec": {
   "display_name": "Python 3",
   "language": "python",
   "name": "python3"
  },
  "language_info": {
   "codemirror_mode": {
    "name": "ipython",
    "version": 3
   },
   "file_extension": ".py",
   "mimetype": "text/x-python",
   "name": "python",
   "nbconvert_exporter": "python",
   "pygments_lexer": "ipython3",
   "version": "3.12.2"
  }
 },
 "nbformat": 4,
 "nbformat_minor": 2
}
